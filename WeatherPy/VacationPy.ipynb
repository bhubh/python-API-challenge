{
 "cells": [
  {
   "cell_type": "markdown",
   "metadata": {},
   "source": [
    "# Vacationpy Analysis"
   ]
  },
  {
   "cell_type": "code",
   "execution_count": 3,
   "metadata": {},
   "outputs": [],
   "source": [
    "# import dependencies\n",
    "\n",
    "import matplotlib.pyplot as plt\n",
    "import pandas as pd\n",
    "import numpy as np\n",
    "import requests\n",
    "import gmaps\n",
    "import os\n",
    "\n",
    "# Import API key\n",
    "from api_keys import g_key"
   ]
  },
  {
   "cell_type": "code",
   "execution_count": 5,
   "metadata": {},
   "outputs": [
    {
     "data": {
      "text/html": [
       "<div>\n",
       "<style scoped>\n",
       "    .dataframe tbody tr th:only-of-type {\n",
       "        vertical-align: middle;\n",
       "    }\n",
       "\n",
       "    .dataframe tbody tr th {\n",
       "        vertical-align: top;\n",
       "    }\n",
       "\n",
       "    .dataframe thead th {\n",
       "        text-align: right;\n",
       "    }\n",
       "</style>\n",
       "<table border=\"1\" class=\"dataframe\">\n",
       "  <thead>\n",
       "    <tr style=\"text-align: right;\">\n",
       "      <th></th>\n",
       "      <th>City</th>\n",
       "      <th>country</th>\n",
       "      <th>Date</th>\n",
       "      <th>Latitude</th>\n",
       "      <th>Longitude</th>\n",
       "      <th>Max_temp</th>\n",
       "      <th>Humidity</th>\n",
       "      <th>Cloudiness</th>\n",
       "      <th>Wind Speed</th>\n",
       "    </tr>\n",
       "  </thead>\n",
       "  <tbody>\n",
       "    <tr>\n",
       "      <th>0</th>\n",
       "      <td>Mataura</td>\n",
       "      <td>NZ</td>\n",
       "      <td>1650139304</td>\n",
       "      <td>-46.1927</td>\n",
       "      <td>168.8643</td>\n",
       "      <td>276.75</td>\n",
       "      <td>96</td>\n",
       "      <td>68</td>\n",
       "      <td>1.22</td>\n",
       "    </tr>\n",
       "    <tr>\n",
       "      <th>1</th>\n",
       "      <td>Cidreira</td>\n",
       "      <td>BR</td>\n",
       "      <td>1650139304</td>\n",
       "      <td>-30.1811</td>\n",
       "      <td>-50.2056</td>\n",
       "      <td>292.73</td>\n",
       "      <td>68</td>\n",
       "      <td>100</td>\n",
       "      <td>3.42</td>\n",
       "    </tr>\n",
       "    <tr>\n",
       "      <th>2</th>\n",
       "      <td>Novy Urengoy</td>\n",
       "      <td>RU</td>\n",
       "      <td>1650139121</td>\n",
       "      <td>66.0833</td>\n",
       "      <td>76.6333</td>\n",
       "      <td>264.11</td>\n",
       "      <td>92</td>\n",
       "      <td>100</td>\n",
       "      <td>7.57</td>\n",
       "    </tr>\n",
       "    <tr>\n",
       "      <th>3</th>\n",
       "      <td>Dikson</td>\n",
       "      <td>RU</td>\n",
       "      <td>1650139305</td>\n",
       "      <td>73.5069</td>\n",
       "      <td>80.5464</td>\n",
       "      <td>261.80</td>\n",
       "      <td>94</td>\n",
       "      <td>100</td>\n",
       "      <td>7.26</td>\n",
       "    </tr>\n",
       "    <tr>\n",
       "      <th>4</th>\n",
       "      <td>Juan Lacaze</td>\n",
       "      <td>UY</td>\n",
       "      <td>1650139305</td>\n",
       "      <td>-34.4342</td>\n",
       "      <td>-57.4381</td>\n",
       "      <td>293.21</td>\n",
       "      <td>65</td>\n",
       "      <td>29</td>\n",
       "      <td>5.74</td>\n",
       "    </tr>\n",
       "    <tr>\n",
       "      <th>...</th>\n",
       "      <td>...</td>\n",
       "      <td>...</td>\n",
       "      <td>...</td>\n",
       "      <td>...</td>\n",
       "      <td>...</td>\n",
       "      <td>...</td>\n",
       "      <td>...</td>\n",
       "      <td>...</td>\n",
       "      <td>...</td>\n",
       "    </tr>\n",
       "    <tr>\n",
       "      <th>543</th>\n",
       "      <td>Ambanja</td>\n",
       "      <td>MG</td>\n",
       "      <td>1650139527</td>\n",
       "      <td>-13.6833</td>\n",
       "      <td>48.4500</td>\n",
       "      <td>297.97</td>\n",
       "      <td>90</td>\n",
       "      <td>19</td>\n",
       "      <td>1.33</td>\n",
       "    </tr>\n",
       "    <tr>\n",
       "      <th>544</th>\n",
       "      <td>Talara</td>\n",
       "      <td>PE</td>\n",
       "      <td>1650139528</td>\n",
       "      <td>-4.5772</td>\n",
       "      <td>-81.2719</td>\n",
       "      <td>300.57</td>\n",
       "      <td>54</td>\n",
       "      <td>0</td>\n",
       "      <td>6.69</td>\n",
       "    </tr>\n",
       "    <tr>\n",
       "      <th>545</th>\n",
       "      <td>Jijiga</td>\n",
       "      <td>ET</td>\n",
       "      <td>1650139528</td>\n",
       "      <td>9.3500</td>\n",
       "      <td>42.8000</td>\n",
       "      <td>293.92</td>\n",
       "      <td>65</td>\n",
       "      <td>96</td>\n",
       "      <td>3.04</td>\n",
       "    </tr>\n",
       "    <tr>\n",
       "      <th>546</th>\n",
       "      <td>Carauari</td>\n",
       "      <td>BR</td>\n",
       "      <td>1650139529</td>\n",
       "      <td>-4.8828</td>\n",
       "      <td>-66.8958</td>\n",
       "      <td>303.71</td>\n",
       "      <td>61</td>\n",
       "      <td>94</td>\n",
       "      <td>0.72</td>\n",
       "    </tr>\n",
       "    <tr>\n",
       "      <th>547</th>\n",
       "      <td>Cocobeach</td>\n",
       "      <td>GA</td>\n",
       "      <td>1650139529</td>\n",
       "      <td>1.0002</td>\n",
       "      <td>9.5823</td>\n",
       "      <td>299.07</td>\n",
       "      <td>87</td>\n",
       "      <td>100</td>\n",
       "      <td>1.89</td>\n",
       "    </tr>\n",
       "  </tbody>\n",
       "</table>\n",
       "<p>548 rows × 9 columns</p>\n",
       "</div>"
      ],
      "text/plain": [
       "             City country        Date  Latitude  Longitude  Max_temp  \\\n",
       "0         Mataura      NZ  1650139304  -46.1927   168.8643    276.75   \n",
       "1        Cidreira      BR  1650139304  -30.1811   -50.2056    292.73   \n",
       "2    Novy Urengoy      RU  1650139121   66.0833    76.6333    264.11   \n",
       "3          Dikson      RU  1650139305   73.5069    80.5464    261.80   \n",
       "4     Juan Lacaze      UY  1650139305  -34.4342   -57.4381    293.21   \n",
       "..            ...     ...         ...       ...        ...       ...   \n",
       "543       Ambanja      MG  1650139527  -13.6833    48.4500    297.97   \n",
       "544        Talara      PE  1650139528   -4.5772   -81.2719    300.57   \n",
       "545        Jijiga      ET  1650139528    9.3500    42.8000    293.92   \n",
       "546      Carauari      BR  1650139529   -4.8828   -66.8958    303.71   \n",
       "547     Cocobeach      GA  1650139529    1.0002     9.5823    299.07   \n",
       "\n",
       "     Humidity  Cloudiness  Wind Speed  \n",
       "0          96          68        1.22  \n",
       "1          68         100        3.42  \n",
       "2          92         100        7.57  \n",
       "3          94         100        7.26  \n",
       "4          65          29        5.74  \n",
       "..        ...         ...         ...  \n",
       "543        90          19        1.33  \n",
       "544        54           0        6.69  \n",
       "545        65          96        3.04  \n",
       "546        61          94        0.72  \n",
       "547        87         100        1.89  \n",
       "\n",
       "[548 rows x 9 columns]"
      ]
     },
     "execution_count": 5,
     "metadata": {},
     "output_type": "execute_result"
    }
   ],
   "source": [
    "#importing weather data from weatherPy exported csv\n",
    "weather_df = pd.read_csv(\"weather_data.csv\")\n",
    "weather_df\n"
   ]
  },
  {
   "cell_type": "markdown",
   "metadata": {},
   "source": [
    "# Creating Humidity heatmap"
   ]
  },
  {
   "cell_type": "code",
   "execution_count": 8,
   "metadata": {},
   "outputs": [],
   "source": [
    "#configure gmap with api key\n",
    "gmaps.configure(api_key = g_key)\n"
   ]
  },
  {
   "cell_type": "code",
   "execution_count": 38,
   "metadata": {},
   "outputs": [
    {
     "data": {
      "text/plain": [
       "100.0"
      ]
     },
     "execution_count": 38,
     "metadata": {},
     "output_type": "execute_result"
    }
   ],
   "source": [
    "#storing latitude and logitude as locations\n",
    "locations = weather_df[[\"Latitude\", \"Longitude\"]].astype(float)\n",
    "\n",
    "#getting humidity data\n",
    "humidity = weather_df[\"Humidity\"].astype(float)\n",
    "max_humidity = humidity.max()\n",
    "\n",
    "max_humidity"
   ]
  },
  {
   "cell_type": "code",
   "execution_count": 40,
   "metadata": {},
   "outputs": [
    {
     "data": {
      "application/vnd.jupyter.widget-view+json": {
       "model_id": "a0897e91b8644877a1d08b2e8a39844c",
       "version_major": 2,
       "version_minor": 0
      },
      "text/plain": [
       "Figure(layout=FigureLayout(height='420px'))"
      ]
     },
     "metadata": {},
     "output_type": "display_data"
    }
   ],
   "source": [
    "#creating humidity heatmap layer\n",
    "fig = gmaps.figure()\n",
    "\n",
    "heat_layer = gmaps.heatmap_layer(locations, weights = humidity, dissipating = False,\n",
    "                                 max_intensity = max_humidity, point_radius = 3)\n",
    "fig.add_layer(heat_layer)\n",
    "\n",
    "fig\n",
    "\n",
    "\n"
   ]
  },
  {
   "cell_type": "markdown",
   "metadata": {},
   "source": [
    "# Creating new dataframe with narrowed down criteria\n"
   ]
  },
  {
   "cell_type": "code",
   "execution_count": 52,
   "metadata": {},
   "outputs": [
    {
     "data": {
      "text/plain": [
       "(54, 9)"
      ]
     },
     "execution_count": 52,
     "metadata": {},
     "output_type": "execute_result"
    }
   ],
   "source": [
    "#limit max temp to a range of 70F (294 K) to 85F (302 K)\n",
    "#limit windspeed < 12\n",
    "#limit cloudiness <30\n",
    "weather_pref = weather_df[(weather_df[\"Max_temp\"]>=294) & (weather_df[\"Max_temp\"]<=302)\n",
    "                             & (weather_df[\"Wind Speed\"]<=12)& (weather_df[\"Cloudiness\"]<=20)]\n",
    "\n",
    "weather_pref.shape\n"
   ]
  },
  {
   "cell_type": "code",
   "execution_count": null,
   "metadata": {},
   "outputs": [],
   "source": []
  }
 ],
 "metadata": {
  "kernelspec": {
   "display_name": "Python [conda env:PythonData38] *",
   "language": "python",
   "name": "conda-env-PythonData38-py"
  },
  "language_info": {
   "codemirror_mode": {
    "name": "ipython",
    "version": 3
   },
   "file_extension": ".py",
   "mimetype": "text/x-python",
   "name": "python",
   "nbconvert_exporter": "python",
   "pygments_lexer": "ipython3",
   "version": "3.8.5"
  }
 },
 "nbformat": 4,
 "nbformat_minor": 4
}
